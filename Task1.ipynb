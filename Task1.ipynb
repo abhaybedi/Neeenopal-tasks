{
  "nbformat": 4,
  "nbformat_minor": 0,
  "metadata": {
    "colab": {
      "provenance": []
    },
    "kernelspec": {
      "name": "python3",
      "display_name": "Python 3"
    },
    "language_info": {
      "name": "python"
    }
  },
  "cells": [
    {
      "cell_type": "code",
      "execution_count": 3,
      "metadata": {
        "colab": {
          "base_uri": "https://localhost:8080/"
        },
        "id": "gIJRdNfzvPtP",
        "outputId": "7812c088-73d9-4800-f57b-ccd931f35728"
      },
      "outputs": [
        {
          "output_type": "stream",
          "name": "stdout",
          "text": [
            "Records present in data1 but missing in data2: 507\n",
            "Records missing in data1 but present in data2: 508\n",
            "Sum of the total Qty of Records missing in data1 but present in data2: 1956\n",
            "Total number of unique records in the combined dataset: 9986\n"
          ]
        }
      ],
      "source": [
        "#Submission for neenopal task-1 (python) by Abhay Bedi (Data Scientist Intern) Thapar Intitute of Engineering & Technology\n",
        "#The provided Python script uses the pandas library to perform data analysis\n",
        "#and address specific tasks related to two datasets, data1 and data2\n",
        "\n",
        "\n",
        "import pandas as pd\n",
        "#imports the pandas library, a powerful data manipulation and analysis tool in Python.\n",
        "\n",
        "# Load the datasets\n",
        "data1 = pd.read_csv('/content/Records Matching Task.xlsx - data1.csv')\n",
        "data2 = pd.read_csv('/content/Records Matching Task.xlsx - data2.csv')\n",
        "#These lines read the contents of two CSV files, 'data1.csv' and 'data2.csv', into pandas DataFrames named data1 and data2, respectively.\n",
        "\n",
        "\n",
        "\n",
        "not_in_data2 = data1[~data1.set_index(['Order ID', 'Product ID']).index.isin(data2.set_index(['Order ID', 'Product ID']).index)]\n",
        "#This line creates a DataFrame (not_in_data2) containing records from data1 whose combination of 'Order ID' and 'Product ID' is not found in data2.\n",
        "\n",
        "\n",
        "\n",
        "not_in_data1 = data2[~data2.set_index(['Order ID', 'Product ID']).index.isin(data1.set_index(['Order ID', 'Product ID']).index)]\n",
        "#This line creates a DataFrame (not_in_data1) containing records from data2 whose combination of 'Order ID' and 'Product ID' is not found in data1.\n",
        "\n",
        "\n",
        "\n",
        "# Find the Sum of the total Qty of Records missing in data1 but present in data2\n",
        "sum_qty_not_in_data1 = not_in_data1['Qty'].sum()\n",
        "\n",
        "\n",
        "combined_dataset = pd.concat([data1, data2])\n",
        "total_unique_records = combined_dataset.drop_duplicates(['Order ID', 'Product ID']).shape[0]\n",
        "#These lines concatenate data1 and data2 into a new DataFrame (combined_dataset). The total number of unique records is then calculated by dropping duplicates based on the 'Order ID' and 'Product ID' columns.\n",
        "\n",
        "# results\n",
        "print(\"Records present in data1 but missing in data2:\", len(not_in_data2))\n",
        "print(\"Records missing in data1 but present in data2:\", len(not_in_data1))\n",
        "print(\"Sum of the total Qty of Records missing in data1 but present in data2:\", sum_qty_not_in_data1)\n",
        "print(\"Total number of unique records in the combined dataset:\", total_unique_records)\n"
      ]
    }
  ]
}